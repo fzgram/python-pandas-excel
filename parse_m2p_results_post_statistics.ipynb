{
 "cells": [
  {
   "cell_type": "code",
   "execution_count": 1,
   "metadata": {},
   "outputs": [],
   "source": [
    "import pandas as pd\n",
    "import os\n",
    "import sys\n",
    "import csv\n",
    "import re\n",
    "import matplotlib.pyplot as plt\n",
    "import openpyxl"
   ]
  },
  {
   "cell_type": "code",
   "execution_count": 2,
   "metadata": {},
   "outputs": [],
   "source": [
    "def is_interactive():\n",
    "    import __main__ as main\n",
    "    return not hasattr(main, '__file__')"
   ]
  },
  {
   "cell_type": "markdown",
   "metadata": {},
   "source": [
    "## Sheet 1 - all runs"
   ]
  },
  {
   "cell_type": "code",
   "execution_count": 3,
   "metadata": {},
   "outputs": [],
   "source": [
    "def add_all_runs_sheet(c_df, writer):\n",
    "    c_df.to_excel(writer, sheet_name='All runs', index=False)    "
   ]
  },
  {
   "cell_type": "markdown",
   "metadata": {},
   "source": [
    "## Sheet 2 - only non-outliers from all runs"
   ]
  },
  {
   "cell_type": "code",
   "execution_count": 4,
   "metadata": {},
   "outputs": [],
   "source": [
    "def add_runs_without_outliers(c_df, writer, outlier_threshold=120):\n",
    "    no_outliers_df = c_df[c_df['AR_fps'] >= 120]\n",
    "    no_outliers_df.to_excel(writer, sheet_name='Runs without outliers', index=False)\n",
    "    return no_outliers_df"
   ]
  },
  {
   "cell_type": "markdown",
   "metadata": {},
   "source": [
    "## Sheet 3 - only outliers from all runs"
   ]
  },
  {
   "cell_type": "code",
   "execution_count": 5,
   "metadata": {},
   "outputs": [],
   "source": [
    "def add_outlier_runs(c_df, writer, outlier_threshold=120):\n",
    "    with_outliers_df = c_df[c_df['AR_fps'] < 120]\n",
    "    with_outliers_df.to_excel(writer, sheet_name='Outlier runs', index=False)\n",
    "    return with_outliers_df"
   ]
  },
  {
   "cell_type": "markdown",
   "metadata": {},
   "source": [
    "## Sheet 4 - add statistics (min, max, stddev, etc.) for FPS (runs without outliers)"
   ]
  },
  {
   "cell_type": "code",
   "execution_count": 6,
   "metadata": {},
   "outputs": [],
   "source": [
    "def add_statistics(c_df, writer):\n",
    "    sliced_df = c_df[['run', 'AR_fps']].copy()\n",
    "    desc_df = sliced_df.describe()\n",
    "    median_series = sliced_df.median()\n",
    "    \n",
    "    fps_stat_df = pd.DataFrame(columns=['Min', 'Max', 'Average', 'Median', 'Std Deviation'])\n",
    "         \n",
    "    fps_stat_df['Min'] = [desc_df[\"AR_fps\"][\"min\"]]\n",
    "    fps_stat_df['Max'] = [desc_df[\"AR_fps\"][\"max\"]]\n",
    "    fps_stat_df['Average'] = [desc_df[\"AR_fps\"][\"mean\"]]\n",
    "    fps_stat_df['Median'] = [median_series[\"AR_fps\"]]\n",
    "    fps_stat_df['Std Deviation'] = [desc_df[\"AR_fps\"][\"std\"]]\n",
    "\n",
    "    # Round to 4 decimals\n",
    "    fps_stat_df = fps_stat_df.round(4)\n",
    "    \n",
    "    # Write the sliced_df to excel\n",
    "    sliced_df.to_excel(writer, sheet_name='Statistics', index=False)\n",
    "    \n",
    "    #get a pointer to the same sheet to write other dfs and text to the same sheet\n",
    "    curr_sheet = writer.sheets['Statistics']\n",
    "    \n",
    "    # Write text and fps_stat_df\n",
    "    #curr_sheet.write(1, 4, \"Statistics, # of Frames Delay\")\n",
    "    curr_sheet['E2'] = \"Statistics of FPS values\"\n",
    "    fps_stat_df.to_excel(writer, startrow=2, startcol=4, sheet_name='Statistics', index=False)\n",
    "    \n",
    "    return fps_stat_df"
   ]
  },
  {
   "cell_type": "markdown",
   "metadata": {},
   "source": [
    "## Sheet 5 - Analyze FPS values from all runs"
   ]
  },
  {
   "cell_type": "code",
   "execution_count": 7,
   "metadata": {},
   "outputs": [],
   "source": [
    "def fps_all_analysis(c_df, writer):\n",
    "    curr_row = 0\n",
    "    fps_col_series = c_df['AR_fps'].copy()\n",
    "        \n",
    "    # Convert the column to dataframe with unique values and their count\n",
    "    fps_unique_count_df = fps_col_series.value_counts().sort_index().to_frame('Count of frame delay')\n",
    "    fps_unique_count_df.rename_axis('Frame Delay', inplace=True)\n",
    "    fps_unique_count_df.to_excel(writer, sheet_name='Frame Delay-Allruns', index=True)\n",
    "    \n",
    "    # Get current sheet pointer for future writing\n",
    "    curr_sheet = writer.sheets['Frame Delay-Allruns']\n",
    "    \n",
    "    # Add grand total of runs\n",
    "    curr_row = len(fps_unique_count_df) + 2 # update current row val. +2 because, 1 for column names of the dataframe and 1 for next empty row\n",
    "    curr_sheet.cell(row=curr_row, column=1).value = 'Grand Total'\n",
    "    curr_sheet.cell(row=curr_row, column=2).value = fps_unique_count_df.sum()[0]\n",
    "    \n",
    "    # Add outlier vs non-outlier stats\n",
    "    curr_row = curr_row + 1 # update current row val\n",
    "    \n",
    "    outlier_stat_df = pd.DataFrame(columns=['Frames Delayed', 'Distribution of Frame Delay with all runs', 'in %'])\n",
    "    total_non_outliers = len(fps_col_series[fps_col_series[0] <= 4])\n",
    "    total_outliers = len(fps_col_series[fps_col_series[0] > 4])\n",
    "    total_sum = fps_unique_count_df.sum()[0]\n",
    "\n",
    "    outlier_stat_df.loc[0] = ['<=4', total_non_outliers, round((total_non_outliers*100)/total_sum, 2) ]\n",
    "    outlier_stat_df.loc[1] = ['>4', total_outliers, round((total_outliers*100)/total_sum, 2) ]\n",
    "    outlier_stat_df.loc[2] = ['total', total_sum, 100]\n",
    "    outlier_stat_df.to_excel(writer, sheet_name='Frame Delay-Allruns', startrow=curr_row, index=False)\n",
    "    \n",
    "    # Add 3D pie chart image on the excel sheet\n",
    "    data = outlier_stat_df['in %'].values.tolist()[:-1]\n",
    "    labels = ['<=4', '>4']\n",
    "    plt.title(\"Distribution of Frame Delay with all runs, in %'\")\n",
    "    plt.pie(data, labels=labels, autopct='%1.1f%%', startangle=120, shadow=True)\n",
    "    piefile = f\"{top_folder_final_name}_FrameDelayAnalysis.png\"\n",
    "    plt.savefig(piefile, dpi = 75)\n",
    "    img = openpyxl.drawing.image.Image(piefile)\n",
    "    img.anchor = 'G4'\n",
    "    curr_sheet.add_image(img)\n",
    "    \n",
    "    plt.close('all')\n",
    "    print(f\"Saved pie chart: {piefile}\")"
   ]
  },
  {
   "cell_type": "markdown",
   "metadata": {},
   "source": [
    "## Sheet 6 - Analyze AR_fps column from all non-outlier runs"
   ]
  },
  {
   "cell_type": "code",
   "execution_count": 8,
   "metadata": {},
   "outputs": [],
   "source": [
    "def fps_no_outliers_analysis(no_outliers_df, writer):\n",
    "    curr_row = 0\n",
    "    fps_col_series = no_outliers_df['AR_fps'].copy()\n",
    "    \n",
    "    # Convert the column to dataframe with unique values and their count\n",
    "    fps_unique_count_df = fps_col_series.value_counts().sort_index().to_frame()\n",
    "    fps_unique_count_df.rename_axis('FPS unique values', inplace=True)\n",
    "    fps_unique_count_df.rename(columns={'AR_fps':'count'})\n",
    "    fps_unique_count_df['% of FPS value Distribution'] = round(fps_col_series.value_counts(normalize=True)*100, 2)\n",
    "    fps_unique_count_df.sort_index()\n",
    "    fps_unique_count_df.to_excel(writer, sheet_name='FPS-Runswithoutoutliers', index=True)\n",
    "        \n",
    "    # Get current sheet pointer for future writing\n",
    "    curr_sheet = writer.sheets['FPS-Runswithoutoutliers']\n",
    "    \n",
    "    # Add grand total of runs\n",
    "    curr_row = len(fps_unique_count_df) + 2 # update current row val\n",
    "    curr_sheet.cell(row=curr_row, column=1).value = 'Grand Total'\n",
    "    curr_sheet.cell(row=curr_row, column=2).value = fps_unique_count_df.sum()[0]\n",
    "    curr_sheet.cell(row=curr_row, column=3).value = round(fps_unique_count_df['% of FPS value Distribution'].sum())\n",
    "    \n",
    "    \n",
    "    # Add 3D pie chart image on the excel sheet\n",
    "    data = fps_unique_count_df['% of FPS value Distribution'].values.tolist()\n",
    "    labels = fps_unique_count_df.index.values.tolist()\n",
    "    plt.title(\"Distribution of Frame Delay with non-outlier runs, in %'\")\n",
    "    plt.pie(data, labels=labels, autopct='%1.1f%%', startangle=120)\n",
    "    piefile = f\"{input_excel_name}_FrameDelayAnalysisNonOutliers.png\"\n",
    "    plt.savefig(piefile, dpi = 75)\n",
    "    img = openpyxl.drawing.image.Image(piefile)\n",
    "    img.anchor = 'G4'\n",
    "    curr_sheet.add_image(img)\n",
    "    \n",
    "    plt.close('all')\n",
    "    print(f\"Saved pie chart: {piefile}\")"
   ]
  },
  {
   "cell_type": "markdown",
   "metadata": {},
   "source": [
    "# MAIN"
   ]
  },
  {
   "cell_type": "code",
   "execution_count": 9,
   "metadata": {},
   "outputs": [
    {
     "name": "stdout",
     "output_type": "stream",
     "text": [
      "*** Working on folder: consolidation_result.xlsx ***\n"
     ]
    }
   ],
   "source": [
    "#main\n",
    "if is_interactive():\n",
    "    input_excel = 'consolidation_result.xlsx'\n",
    "else:\n",
    "    input_excel = sys.argv[1]\n",
    "\n",
    "# get the name of input excel file, discard the extension\n",
    "input_excel_name, _ = os.path.splitext(input_excel)\n",
    "excel_file = f'{input_excel_name}_post_analysis.xlsx'\n",
    "writer = pd.ExcelWriter(excel_file, engine='openpyxl')\n",
    "\n",
    "print(f\"*** Working on folder: {input_excel} ***\")\n",
    "\n",
    "# Get the input excel sheet into a dataframe\n",
    "c_df = pd.read_excel(input_excel, 0, index_col=None)"
   ]
  },
  {
   "cell_type": "code",
   "execution_count": 10,
   "metadata": {},
   "outputs": [
    {
     "name": "stdout",
     "output_type": "stream",
     "text": [
      "Working on Sheet 1 - All runs\n",
      "Total runs: 200 \n",
      "DONE!\n",
      "\n",
      "Working on Sheet 2 - only non-outliers from all runs\n",
      "Total non-outlier runs: 100 \n",
      "DONE!\n",
      "\n",
      "Working on Sheet 3 - only ourtliers from all runs\n",
      "Total outlier runs: 100 \n",
      "DONE!\n",
      "\n",
      "Working on Sheet 4 - add statistics (min, max, stddev, etc.) for 'AR_fps' values for non-outlier runs\n",
      "DONE!\n",
      "\n",
      "Working on Sheet 5 - Analyze frame delay column from all runs\n",
      "DONE!\n",
      "\n",
      "Working on Sheet 6 - Analyze frame delay distribution of non-outlier runs\n",
      "Saved pie chart: consolidation_result_FrameDelayAnalysisNonOutliers.png\n",
      "DONE!\n",
      "\n",
      "Consolidating all sheets in final Excel: consolidation_result_post_analysis.xlsx\n",
      "DONE!\n"
     ]
    }
   ],
   "source": [
    "##### Add required sheets #######\n",
    "\n",
    "# Sheet 1 - all runs\n",
    "print(\"Working on Sheet 1 - All runs\")\n",
    "add_all_runs_sheet(c_df, writer)\n",
    "print(f\"Total runs: {len(c_df)} \")\n",
    "print(\"DONE!\\n\")\n",
    "\n",
    "# Sheet 2 - only non-outliers from all runs\n",
    "print(\"Working on Sheet 2 - only non-outliers from all runs\")\n",
    "no_outliers_df = add_runs_without_outliers(c_df, writer)\n",
    "print(f\"Total non-outlier runs: {len(no_outliers_df)} \")\n",
    "print(\"DONE!\\n\")\n",
    "\n",
    "# Sheet 3 - only ourtliers from all runs\n",
    "print(\"Working on Sheet 3 - only ourtliers from all runs\")\n",
    "with_outliers_df = add_outlier_runs(c_df, writer)\n",
    "print(f\"Total outlier runs: {len(with_outliers_df)} \")\n",
    "print(\"DONE!\\n\")\n",
    "\n",
    "# Sheet 4 - add statistics (min, max, stddev, etc.) for frame delay (runs without outliers)\n",
    "print(\"Working on Sheet 4 - add statistics (min, max, stddev, etc.) for 'AR_fps' values for non-outlier runs\")\n",
    "fps_stat_df = add_statistics(no_outliers_df, writer)\n",
    "print(\"DONE!\\n\")\n",
    "\n",
    "# Sheet 5 - Analyze frame delay column from all runs\n",
    "print(\"Working on Sheet 5 - Analyze frame delay column from all runs\")\n",
    "#fps_all_analysis(c_df, writer)\n",
    "print(\"DONE!\\n\")\n",
    "\n",
    "# Sheet 6 - Analyze frame delay distribution of non-outlier runs\n",
    "print(\"Working on Sheet 6 - Analyze frame delay distribution of non-outlier runs\")\n",
    "fps_no_outliers_analysis(no_outliers_df, writer)\n",
    "print(\"DONE!\\n\")\n",
    "\n",
    "# Final step. Save the Excel writer object and close it\n",
    "print(f\"Consolidating all sheets in final Excel: {excel_file}\")\n",
    "writer.save()\n",
    "writer.close()\n",
    "print(\"DONE!\")"
   ]
  },
  {
   "cell_type": "code",
   "execution_count": null,
   "metadata": {},
   "outputs": [],
   "source": []
  }
 ],
 "metadata": {
  "kernelspec": {
   "display_name": "Python 3",
   "language": "python",
   "name": "python3"
  },
  "language_info": {
   "codemirror_mode": {
    "name": "ipython",
    "version": 3
   },
   "file_extension": ".py",
   "mimetype": "text/x-python",
   "name": "python",
   "nbconvert_exporter": "python",
   "pygments_lexer": "ipython3",
   "version": "3.6.0"
  }
 },
 "nbformat": 4,
 "nbformat_minor": 4
}
